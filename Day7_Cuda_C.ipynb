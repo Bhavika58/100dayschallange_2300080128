{
  "cells": [
    {
      "cell_type": "code",
      "execution_count": null,
      "metadata": {
        "colab": {
          "base_uri": "https://localhost:8080/"
        },
        "id": "tvx2LSDuZlhN",
        "outputId": "d662a9d3-8177-426a-efbc-ceb101f98376"
      },
      "outputs": [
        {
          "name": "stdout",
          "output_type": "stream",
          "text": [
            "Writing oned_convolution.cu\n"
          ]
        }
      ],
      "source": [
        "%%writefile oned_convolution.cu\n",
        "#include <iostream>\n",
        "#include <cuda_runtime.h>\n",
        "#define Mask_width 5\n",
        "__constant__ float M[Mask_width];\n",
        "__global__ void oned_convolution_kernel(const float* A, float* C, int n) {\n",
        "    int threadId = threadIdx.x;\n",
        "    int i = blockDim.x * blockIdx.x + threadId;\n",
        "    if (i < n) {\n",
        "        float result = 0.0f;\n",
        "        for (int k = -Mask_width / 2; k <= Mask_width / 2; k++) {\n",
        "            if (i + k >= 0 && i + k < n) {\n",
        "                result += A[i + k] * M[k + Mask_width / 2];\n",
        "            }\n",
        "        }\n",
        "        C[i] = result;\n",
        "    }\n",
        "}\n",
        "void checkCudaError(const char* message) {\n",
        "    cudaError_t error = cudaGetLastError();\n",
        "    if (error != cudaSuccess) {\n",
        "        std::cerr << message << \" - CUDA Error: \" << cudaGetErrorString(error) << std::endl;\n",
        "        exit(EXIT_FAILURE);\n",
        "    }\n",
        "}\n",
        "int main() {\n",
        "    int n = 10;\n",
        "    float A[n], C[n];\n",
        "    float d_M[Mask_width];\n",
        "    for (int i = 0; i < Mask_width; i++) {\n",
        "        d_M[i] = i;\n",
        "    }\n",
        "    for (int i = 0; i < n; i++) {\n",
        "        A[i] = i;\n",
        "    }\n",
        "    float *d_a, *d_c;\n",
        "    cudaMalloc(&d_a, n * sizeof(float));\n",
        "    cudaMalloc(&d_c, n * sizeof(float));\n",
        "    cudaMemcpy(d_a, A, n * sizeof(float), cudaMemcpyHostToDevice);\n",
        "    checkCudaError(\"Failed to copy input data to device\");\n",
        "    cudaMemcpyToSymbol(M, d_M, Mask_width * sizeof(float));\n",
        "    checkCudaError(\"Failed to copy mask data to device\");\n",
        "    dim3 dimBlock(32);\n",
        "    dim3 dimGrid((n + dimBlock.x - 1) / dimBlock.x);\n",
        "    oned_convolution_kernel<<<dimGrid, dimBlock>>>(d_a, d_c, n);\n",
        "    checkCudaError(\"Failed to execute the kernel\");\n",
        "    cudaDeviceSynchronize();\n",
        "    cudaMemcpy(C, d_c, n * sizeof(float), cudaMemcpyDeviceToHost);\n",
        "    checkCudaError(\"Failed to copy output data to host\");\n",
        "    cudaFree(d_a);\n",
        "    cudaFree(d_c);\n",
        "    printf(\"A:\\n\");\n",
        "    for (int i = 0; i < n; i++) {\n",
        "        printf(\"%.2f \", A[i]);\n",
        "    }\n",
        "    printf(\"\\n\");\n",
        "    printf(\"\\nd_M:\\n\");\n",
        "    for (int i = 0; i < Mask_width; i++) {\n",
        "        printf(\"%.2f \", d_M[i]);\n",
        "    }\n",
        "    printf(\"\\n\");\n",
        "    printf(\"\\nC:\\n\");\n",
        "    for (int i = 0; i < n; i++) {\n",
        "        printf(\"%.2f \", C[i]);\n",
        "    }\n",
        "    printf(\"\\n\");\n",
        "    return 0;\n",
        "}"
      ]
    },
    {
      "cell_type": "code",
      "execution_count": null,
      "metadata": {
        "colab": {
          "base_uri": "https://localhost:8080/"
        },
        "id": "AIn6wRJ75qfN",
        "outputId": "fa5c0c6b-f051-4209-bdd6-77d1386f4a4c"
      },
      "outputs": [
        {
          "name": "stdout",
          "output_type": "stream",
          "text": [
            "A:\n",
            "0.00 1.00 2.00 3.00 4.00 5.00 6.00 7.00 8.00 9.00 \n",
            "\n",
            "d_M:\n",
            "0.00 1.00 2.00 3.00 4.00 \n",
            "\n",
            "C:\n",
            "11.00 20.00 30.00 40.00 50.00 60.00 70.00 80.00 50.00 26.00 \n"
          ]
        }
      ],
      "source": [
        "!nvcc oned_convolution.cu -o oned_convolution -gencode arch=compute_75,code=sm_75\n",
        "# Run the executable\n",
        "!./oned_convolution"
      ]
    },
    {
      "cell_type": "code",
      "execution_count": null,
      "metadata": {
        "colab": {
          "base_uri": "https://localhost:8080/"
        },
        "id": "uJ-lQqmf57d0",
        "outputId": "7f59a221-40c7-483d-867a-92758025271a"
      },
      "outputs": [
        {
          "name": "stdout",
          "output_type": "stream",
          "text": [
            "Overwriting oned_convolution.cu\n"
          ]
        }
      ],
      "source": [
        "%%writefile oned_convolution.cu\n",
        "//one_d_convolution_with_tiling\n",
        "#include <iostream>\n",
        "#include <cuda_runtime.h>\n",
        "#define Mask_width 5\n",
        "__constant__ float M[Mask_width];\n",
        "__global__ void oned_convolution_tiling_kernel(const float* A, float* C, int n) {\n",
        "    int threadId = threadIdx.x;\n",
        "    int i = blockDim.x * blockIdx.x + threadId;\n",
        "    __shared__ float S_A[32 + Mask_width - 1];\n",
        "    // Load main data\n",
        "    if (i < n) {\n",
        "        S_A[threadId + Mask_width/2] = A[i];\n",
        "    }\n",
        "    // Load left halo\n",
        "    if (threadId < Mask_width/2) {\n",
        "        int left_idx = blockIdx.x * blockDim.x - (Mask_width/2) + threadId;\n",
        "        if (left_idx >= 0) {\n",
        "            S_A[threadId] = A[left_idx];\n",
        "        }\n",
        "        else {\n",
        "            S_A[threadId] = 0.0f;\n",
        "        }\n",
        "    }\n",
        "    // Load right halo\n",
        "    if (threadId < Mask_width/2) {\n",
        "        int right_idx = blockIdx.x * blockDim.x + blockDim.x + threadId;\n",
        "        if (right_idx < n) {\n",
        "            S_A[threadId + blockDim.x + Mask_width/2] = A[right_idx];\n",
        "        }\n",
        "        else {\n",
        "            S_A[threadId + blockDim.x + Mask_width/2] = 0.0f;\n",
        "        }\n",
        "    }\n",
        "    __syncthreads();\n",
        "    if (i < n) {\n",
        "        float result = 0.0f;\n",
        "        for (int k = 0; k < Mask_width; k++) {\n",
        "            int idx = threadId + k;\n",
        "            if ((i + k - Mask_width/2) >= 0 && (i + k - Mask_width/2) < n) {\n",
        "                result += S_A[idx] * M[k];\n",
        "            }\n",
        "        }\n",
        "        C[i] = result;\n",
        "    }\n",
        "}\n",
        "// Host function to check for CUDA errors\n",
        "void checkCudaError(const char* message) {\n",
        "    cudaError_t error = cudaGetLastError();\n",
        "    if (error != cudaSuccess) {\n",
        "        std::cerr << message << \" - CUDA Error: \" << cudaGetErrorString(error) << std::endl;\n",
        "        exit(EXIT_FAILURE);\n",
        "    }\n",
        "}\n",
        "int main(){\n",
        "  int n=10;\n",
        "  float A[n],C[n];\n",
        "  float d_M[Mask_width];\n",
        "   for (int i=0; i<Mask_width;i++){\n",
        "    d_M[i]=i;\n",
        "  }\n",
        "  for (int i=0; i<n;i++){\n",
        "    A[i]=i;\n",
        "  }\n",
        "  float *d_a,*d_c;\n",
        "  cudaMalloc(&d_a,n*sizeof(float));\n",
        "  cudaMalloc(&d_c,n*sizeof(float));\n",
        "  cudaMemcpy(d_a,A,n*sizeof(float),cudaMemcpyHostToDevice);\n",
        "  checkCudaError(\"Failed to copy input data to device\");\n",
        "  cudaMemcpyToSymbol(M,d_M,Mask_width*sizeof(float));\n",
        "  checkCudaError(\"Failed to copy mask data to device\");\n",
        "  dim3 dimBlock(32);\n",
        "  dim3 dimGrid((n + dimBlock.x - 1) / dimBlock.x);\n",
        "  oned_convolution_tiling_kernel<<<dimGrid, dimBlock>>>(d_a,d_c,n);\n",
        "  checkCudaError(\"Failed to execute the kernel\");\n",
        "  cudaDeviceSynchronize();\n",
        "  cudaMemcpy(C,d_c,n*sizeof(float),cudaMemcpyDeviceToHost);\n",
        "checkCudaError(\"Failed to copy output data to host\");\n",
        "  cudaFree(d_a);\n",
        "  cudaFree(d_c);\n",
        "  //printing the results\n",
        "  printf(\"A:\\n\");\n",
        "  for (int i=0; i<n;i++){\n",
        "    printf(\"%.2f \", A[i]);\n",
        "  }\n",
        "  printf(\"\\n\");\n",
        "   printf(\"\\nd_m:\\n\");\n",
        "    for (int i = 0; i < Mask_width; i++) {\n",
        "\n",
        "            printf(\"%.2f \", d_M[i]);\n",
        "    }\n",
        "  printf(\"\\n\");\n",
        "  printf(\"\\nC:\\n\");\n",
        "    for (int i = 0; i < n; i++) {\n",
        "            printf(\"%.2f \", C[i]);\n",
        "    }\n",
        "  printf(\"\\n\");\n",
        "}"
      ]
    },
    {
      "cell_type": "code",
      "execution_count": null,
      "metadata": {
        "colab": {
          "base_uri": "https://localhost:8080/"
        },
        "id": "bXVP5u2d6GyD",
        "outputId": "90e4ee49-8087-4fdd-c529-3996b4ca2a8d"
      },
      "outputs": [
        {
          "name": "stdout",
          "output_type": "stream",
          "text": [
            "A:\n",
            "0.00 1.00 2.00 3.00 4.00 5.00 6.00 7.00 8.00 9.00 \n",
            "\n",
            "d_m:\n",
            "0.00 1.00 2.00 3.00 4.00 \n",
            "\n",
            "C:\n",
            "11.00 20.00 30.00 40.00 50.00 60.00 70.00 80.00 50.00 26.00 \n"
          ]
        }
      ],
      "source": [
        "!nvcc oned_convolution.cu -o oned_convolution -gencode arch=compute_75,code=sm_75\n",
        "# Run the executable\n",
        "!./oned_convolution"
      ]
    },
    {
      "cell_type": "code",
      "execution_count": null,
      "metadata": {
        "colab": {
          "base_uri": "https://localhost:8080/"
        },
        "id": "ZgOiFbaM7iaH",
        "outputId": "86fd5897-41dd-436c-ce08-bbf2e1225527"
      },
      "outputs": [
        {
          "name": "stdout",
          "output_type": "stream",
          "text": [
            "Writing twod_convolution.cu\n"
          ]
        }
      ],
      "source": [
        "%%writefile twod_convolution.cu\n",
        "#include <stdio.h>\n",
        "#include <iostream>\n",
        "#define Mask_width 5\n",
        "#define shared_size (32 + Mask_width - 1)\n",
        "__constant__ float M[Mask_width][Mask_width];\n",
        "__global__ void twod_convolution_kernel(const float* A, float* C, int n) {\n",
        "    int threadx = threadIdx.x;\n",
        "    int thready = threadIdx.y;\n",
        "    int i = blockDim.x * blockIdx.x + threadx;\n",
        "    int j = blockDim.y * blockIdx.y + thready;\n",
        "    __shared__ float S_A[shared_size][shared_size];\n",
        "    if ((i < n) && (j < n)) {\n",
        "        S_A[threadx + Mask_width/2][thready + Mask_width/2] = A[i*n + j];\n",
        "    }\n",
        "    if (threadx < Mask_width / 2) {\n",
        "        int left_idx = blockIdx.x * blockDim.x - (Mask_width / 2) + threadx;\n",
        "        if (left_idx >= 0 && j < n) {\n",
        "            S_A[threadx][thready + Mask_width/2] = A[left_idx * n + j];\n",
        "        } else {\n",
        "            S_A[threadx][thready + Mask_width/2] = 0.0f;\n",
        "        }\n",
        "    }\n",
        "    if (threadx < Mask_width / 2) {\n",
        "        int right_idx = blockIdx.x * blockDim.x + blockDim.x + threadx;\n",
        "        if (right_idx < n && j < n) {\n",
        "            S_A[threadx + blockDim.x + Mask_width/2][thready + Mask_width/2] = A[right_idx * n + j];\n",
        "        } else {\n",
        "            S_A[threadx + blockDim.x + Mask_width/2][thready + Mask_width/2] = 0.0f;\n",
        "        }\n",
        "    }\n",
        "    if (thready < Mask_width / 2) {\n",
        "        int top_idy = j - (Mask_width / 2) + thready;\n",
        "        if (top_idy >= 0 && i < n) {\n",
        "            S_A[threadx + Mask_width/2][thready] = A[i * n + top_idy];\n",
        "        } else {\n",
        "            S_A[threadx + Mask_width/2][thready] = 0.0f;\n",
        "        }\n",
        "    }\n",
        "    if (thready < Mask_width / 2) {\n",
        "        int bottom_idy = j + blockDim.y + thready;\n",
        "        if (bottom_idy < n && i < n) {\n",
        "            S_A[threadx + Mask_width/2][thready + blockDim.y + Mask_width/2] = A[i * n + bottom_idy];\n",
        "        } else {\n",
        "            S_A[threadx + Mask_width/2][thready + blockDim.y + Mask_width/2] = 0.0f;\n",
        "        }\n",
        "    }\n",
        "    __syncthreads();\n",
        "    if ((i < n) && (j < n)) {\n",
        "        float result = 0.0f;\n",
        "        for (int k = 0; k < Mask_width; k++) {\n",
        "            for (int x = 0; x < Mask_width; x++) {\n",
        "                result += S_A[threadx + k][thready + x] * M[k][x];\n",
        "            }\n",
        "        }\n",
        "        C[i * n + j] = result;\n",
        "    }\n",
        "}\n",
        "void checkCudaError(const char* message) {\n",
        "    cudaError_t error = cudaGetLastError();\n",
        "    if (error != cudaSuccess) {\n",
        "        fprintf(stderr, \"%s - CUDA Error: %s\\n\", message, cudaGetErrorString(error));\n",
        "        exit(EXIT_FAILURE);\n",
        "    }\n",
        "}\n",
        "int main() {\n",
        "    int n = 10;\n",
        "    float *h_A = (float*)malloc(n * n * sizeof(float));\n",
        "    float *h_C = (float*)malloc(n * n * sizeof(float));\n",
        "    float d_M[Mask_width][Mask_width];\n",
        "    for (int i = 0; i < Mask_width; i++) {\n",
        "        for (int j = 0; j < Mask_width; j++) {\n",
        "            d_M[i][j] = 5;\n",
        "        }\n",
        "    }\n",
        "    for (int i = 0; i < n; i++) {\n",
        "        for (int j = 0; j < n; j++) {\n",
        "            h_A[i * n + j] = 3;\n",
        "        }\n",
        "    }\n",
        "    float *d_a, *d_c;\n",
        "    cudaMalloc(&d_a, n * n * sizeof(float));\n",
        "    cudaMalloc(&d_c, n * n * sizeof(float));\n",
        "    cudaMemcpy(d_a, h_A, n * n * sizeof(float), cudaMemcpyHostToDevice);\n",
        "    checkCudaError(\"Failed to copy input data to device\");\n",
        "    cudaMemcpyToSymbol(M, d_M, Mask_width * Mask_width * sizeof(float));\n",
        "    checkCudaError(\"Failed to copy mask data to device\");\n",
        "    dim3 dimBlock(32, 32);\n",
        "    dim3 dimGrid((n + dimBlock.x - 1) / dimBlock.x, (n + dimBlock.y - 1) / dimBlock.y);\n",
        "    twod_convolution_kernel<<<dimGrid, dimBlock>>>(d_a, d_c, n);\n",
        "    checkCudaError(\"Failed to execute the kernel\");\n",
        "    cudaDeviceSynchronize();\n",
        "    cudaMemcpy(h_C, d_c, n * n * sizeof(float), cudaMemcpyDeviceToHost);\n",
        "    checkCudaError(\"Failed to copy output data to host\");\n",
        "    printf(\"Results:\\n\");\n",
        "    for (int i = 0; i < n; i++) {\n",
        "        for (int j = 0; j < n; j++) {\n",
        "            printf(\"%.2f \", h_C[i * n + j]);\n",
        "        }\n",
        "        printf(\"\\n\");\n",
        "    }\n",
        "    cudaFree(d_a);\n",
        "    cudaFree(d_c);\n",
        "    free(h_A);\n",
        "    free(h_C);\n",
        "    return 0;\n",
        "}"
      ]
    },
    {
      "cell_type": "code",
      "execution_count": null,
      "metadata": {
        "colab": {
          "base_uri": "https://localhost:8080/"
        },
        "id": "k2_Z07mH820R",
        "outputId": "5634a269-eb86-4545-c2f4-5b814be018cf"
      },
      "outputs": [
        {
          "name": "stdout",
          "output_type": "stream",
          "text": [
            "Results:\n",
            "180.00 225.00 225.00 225.00 225.00 225.00 225.00 225.00 180.00 135.00 \n",
            "240.00 300.00 300.00 300.00 300.00 300.00 300.00 300.00 240.00 180.00 \n",
            "300.00 375.00 375.00 375.00 375.00 375.00 375.00 375.00 300.00 225.00 \n",
            "300.00 375.00 375.00 375.00 375.00 375.00 375.00 375.00 300.00 225.00 \n",
            "300.00 375.00 375.00 375.00 375.00 375.00 375.00 375.00 300.00 225.00 \n",
            "300.00 375.00 375.00 375.00 375.00 375.00 375.00 375.00 300.00 225.00 \n",
            "300.00 375.00 375.00 375.00 375.00 375.00 375.00 375.00 300.00 225.00 \n",
            "300.00 375.00 375.00 375.00 375.00 375.00 375.00 375.00 300.00 225.00 \n",
            "240.00 300.00 300.00 300.00 300.00 300.00 300.00 300.00 240.00 180.00 \n",
            "180.00 225.00 225.00 225.00 225.00 225.00 225.00 225.00 180.00 135.00 \n"
          ]
        }
      ],
      "source": [
        "!nvcc twod_convolution.cu -o twod_convolution -gencode arch=compute_75,code=sm_75\n",
        "# Run the executable\n",
        "!./twod_convolution"
      ]
    }
  ],
  "metadata": {
    "accelerator": "GPU",
    "colab": {
      "gpuType": "T4",
      "provenance": []
    },
    "kernelspec": {
      "display_name": "Python 3",
      "name": "python3"
    },
    "language_info": {
      "name": "python"
    }
  },
  "nbformat": 4,
  "nbformat_minor": 0
}
